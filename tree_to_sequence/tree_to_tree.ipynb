{
 "cells": [
  {
   "cell_type": "code",
   "execution_count": null,
   "metadata": {},
   "outputs": [],
   "source": [
    "cd .."
   ]
  },
  {
   "cell_type": "code",
   "execution_count": null,
   "metadata": {},
   "outputs": [],
   "source": [
    "import torch.optim as optim\n",
    "import torch.nn as nn\n",
    "import torch\n",
    "import matplotlib.pyplot as plt\n",
    "import datetime\n",
    "\n",
    "from neural_nets_library import training\n",
    "from tree_to_sequence.tree_encoder import TreeEncoder\n",
    "from tree_to_sequence.tree_decoder import TreeDecoder\n",
    "from tree_to_sequence.program_datasets import *\n",
    "from tree_to_sequence.translating_trees import *\n",
    "from tree_to_sequence.tree_to_tree_attention import TreeToTreeAttention\n",
    "from functools import partial\n",
    "\n",
    "torch.manual_seed(0)"
   ]
  },
  {
   "cell_type": "code",
   "execution_count": null,
   "metadata": {
    "code_folding": [],
    "hide_input": false
   },
   "outputs": [],
   "source": [
    "num_vars = 10\n",
    "num_ints = 11\n",
    "one_hot = False\n",
    "binarize_input = True\n",
    "binarize_output = True\n",
    "eos_token = True\n",
    "long_base_case = True\n",
    "input_as_seq = False\n",
    "output_as_seq = False"
   ]
  },
  {
   "cell_type": "code",
   "execution_count": null,
   "metadata": {
    "code_folding": [],
    "hide_input": false,
    "scrolled": false
   },
   "outputs": [],
   "source": [
    "for_lambda_dset = ForLambdaDataset(\"ANC/AdditionalForDatasets/ForWithLevels/Easy-arbitraryForList.json\", binarize_input=binarize_input, \n",
    "                                   binarize_output=binarize_output, eos_token=eos_token, one_hot=one_hot, \n",
    "                                   long_base_case=long_base_case, input_as_seq=input_as_seq, \n",
    "                                   output_as_seq=output_as_seq)\n",
    "max_size = max([x[1].size() for x in for_lambda_dset])"
   ]
  },
  {
   "cell_type": "code",
   "execution_count": null,
   "metadata": {},
   "outputs": [],
   "source": [
    "pretty_print_tree(for_lambda_dset[0][0])"
   ]
  },
  {
   "cell_type": "code",
   "execution_count": null,
   "metadata": {},
   "outputs": [],
   "source": [
    "pretty_print_tree(for_lambda_dset[0][1])"
   ]
  },
  {
   "cell_type": "code",
   "execution_count": null,
   "metadata": {},
   "outputs": [],
   "source": [
    "def reset_all_parameters_uniform(model, stdev):\n",
    "    for param in model.parameters():\n",
    "        nn.init.uniform_(param, -stdev, stdev)"
   ]
  },
  {
   "cell_type": "code",
   "execution_count": null,
   "metadata": {
    "scrolled": false
   },
   "outputs": [],
   "source": [
    "embedding_size = 100 #... 256 is from the paper, but 100 is WAY faster\n",
    "hidden_size = 256\n",
    "num_layers = 1\n",
    "alignment_size = 50\n",
    "align_type = 1\n",
    "encoder_input_size = num_vars + num_ints + len(for_ops)\n",
    "annotation_method = pre_order\n",
    "#Changed to randomize=true\n",
    "encoder = TreeEncoder(encoder_input_size, hidden_size, num_layers, [1, 2, 3, 4, 5], attention=True, one_hot=one_hot, binary_tree_lstm_cell=False, annotation_method=None, randomize_hiddens=False)\n",
    "nclass = num_vars + num_ints + len(lambda_ops)\n",
    "plot_every = 20\n",
    "max_num_children = 2 if binarize_output else 4\n",
    "\n",
    "decoder = TreeDecoder(embedding_size, hidden_size, max_num_children, nclass=nclass)\n",
    "program_model = TreeToTreeAttention(encoder, decoder, hidden_size, embedding_size, nclass=nclass, max_size=max_size,\n",
    "                                    alignment_size=alignment_size, align_type=align_type)\n",
    "    \n",
    "reset_all_parameters_uniform(program_model, 0.1)\n",
    "encoder.initialize_forget_bias(3)\n",
    "decoder.initialize_forget_bias(3)"
   ]
  },
  {
   "cell_type": "code",
   "execution_count": null,
   "metadata": {},
   "outputs": [],
   "source": [
    "program_model = program_model.cuda()"
   ]
  },
  {
   "cell_type": "code",
   "execution_count": null,
   "metadata": {
    "code_folding": [
     0
    ]
   },
   "outputs": [],
   "source": [
    "optimizer = optim.Adam(program_model.parameters(), lr=0.005)\n",
    "lr_scheduler = optim.lr_scheduler.ReduceLROnPlateau(optimizer, verbose=True, patience=500, factor=0.8)"
   ]
  },
  {
   "cell_type": "code",
   "execution_count": null,
   "metadata": {},
   "outputs": [],
   "source": [
    "# Counts the number of matches between the prediction and target.\n",
    "def count_matches(prediction, target):\n",
    "    matches = 0\n",
    "    if int(prediction.value) == int(target.value):\n",
    "        matches += 1\n",
    "    for i in range(min(len(target.children), len(prediction.children))):\n",
    "        matches += count_matches(prediction.children[i], target.children[i])\n",
    "    return matches\n",
    "\n",
    "# Program accuracy (1 if completely correct, 0 otherwise)\n",
    "def program_accuracy(prediction, target):\n",
    "    if prediction.size() == count_matches(prediction, target) and \\\n",
    "       prediction.size() == target.size():\n",
    "        return 1\n",
    "    else:\n",
    "        return 0\n",
    "\n",
    "# Calculate validation accuracy (this could either be program or token accuracy)\n",
    "def validation_criterion(prediction, target):\n",
    "    return program_accuracy(prediction, target)"
   ]
  },
  {
   "cell_type": "code",
   "execution_count": null,
   "metadata": {},
   "outputs": [],
   "source": [
    "program_model.update_max_size(max_size)"
   ]
  },
  {
   "cell_type": "code",
   "execution_count": null,
   "metadata": {
    "pixiedust": {
     "displayParams": {}
    },
    "scrolled": true
   },
   "outputs": [],
   "source": [
    "start = datetime.datetime.now()\n",
    "best_model, train_plot_losses, validation_plot_losses, _, _ = training.train_model_tree_to_tree(program_model, for_lambda_dset, \n",
    "                                 optimizer, lr_scheduler=None, num_epochs=1, plot_every=plot_every,\n",
    "                                 batch_size=100, print_every=200,\n",
    "                                 validation_criterion=program_accuracy, use_cuda=True)\n",
    "\n",
    "end = datetime.datetime.now()\n",
    "print(\"TIME\", end - start)"
   ]
  },
  {
   "cell_type": "code",
   "execution_count": null,
   "metadata": {},
   "outputs": [],
   "source": [
    "plt.plot([x * plot_every for x in range(len(train_plot_losses))], train_plot_losses)\n",
    "plt.show()\n",
    "\n",
    "plt.plot([x * plot_every for x in range(len(validation_plot_losses))], validation_plot_losses)\n",
    "plt.show()"
   ]
  },
  {
   "cell_type": "code",
   "execution_count": null,
   "metadata": {},
   "outputs": [],
   "source": [
    "train_plot_losses_old = train_plot_losses#_old + train_plot_losses_new\n",
    "validation_plot_losses_old = validation_plot_losses#_old + validation_plot_losses_new\n",
    "\n",
    "# import csv\n",
    "\n",
    "# torch.save(program_model, \"max-big-t2t-all-vars-model\")\n",
    "# with open(\"max-big-t2t-all-vars-train.txt\", \"w\") as output:\n",
    "#     writer = csv.writer(output, lineterminator='\\n')\n",
    "#     for val in train_plot_losses:\n",
    "#         writer.writerow([val]) \n",
    "# with open(\"max-big-t2t-all-vars-validation.txt\", \"w\") as output:\n",
    "#     writer = csv.writer(output, lineterminator='\\n')\n",
    "#     for val in validation_plot_losses:\n",
    "#         writer.writerow([val]) "
   ]
  },
  {
   "cell_type": "code",
   "execution_count": null,
   "metadata": {},
   "outputs": [],
   "source": [
    "n = num_ints + num_vars\n",
    "\n",
    "# Check whether a node is syntactically valid, given its parent and index\n",
    "# Then recursively do it for all the node's children\n",
    "def check_valid(node, parent, child_index):\n",
    "    category = parent_to_category_LAMBDA(parent, child_index, num_vars, num_ints)\n",
    "    possible_outputs = category_to_child_LAMBDA(category, num_vars, num_ints)\n",
    "    if not int(node.value) in possible_outputs:\n",
    "        print(\"parent\", parent, \"child_index\", child_index)\n",
    "        print(\"ERROR\", int(node.value), category)\n",
    "        return False\n",
    "    if (len(node.children) > 0):\n",
    "        child1 = check_valid(node.children[0], int(node.value), 0)\n",
    "        if not child1:\n",
    "            return False\n",
    "        child2 = check_valid(node.children[1], parent, child_index + 1)\n",
    "        if not child2:\n",
    "            return False\n",
    "    return True\n",
    "\n",
    "# Check all the programs in a dataset for syntactic accuracy\n",
    "# (this is a debugging function used to double check the accuracy of your grammar)\n",
    "def check_all():\n",
    "    i = 0\n",
    "    # Check grammar is right\n",
    "    for prog in for_lambda_dset:\n",
    "        correct = check_valid(prog[1], None, 0)\n",
    "        if correct is False:\n",
    "            print(i)\n",
    "            pretty_print_tree(prog[1])\n",
    "            return\n",
    "        i += 1\n",
    "        \n",
    "        \n",
    "        \n",
    "check_all() #kangaroo"
   ]
  }
 ],
 "metadata": {
  "kernelspec": {
   "display_name": "Python 3",
   "language": "python",
   "name": "python3"
  },
  "language_info": {
   "codemirror_mode": {
    "name": "ipython",
    "version": 3
   },
   "file_extension": ".py",
   "mimetype": "text/x-python",
   "name": "python",
   "nbconvert_exporter": "python",
   "pygments_lexer": "ipython3",
   "version": "3.6.6"
  },
  "notify_time": "10"
 },
 "nbformat": 4,
 "nbformat_minor": 1
}
