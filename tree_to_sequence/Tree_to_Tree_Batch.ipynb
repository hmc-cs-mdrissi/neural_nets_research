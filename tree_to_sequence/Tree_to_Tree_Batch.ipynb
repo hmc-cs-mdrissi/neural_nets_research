{
 "cells": [
  {
   "cell_type": "code",
   "execution_count": 1,
   "metadata": {},
   "outputs": [
    {
     "name": "stdout",
     "output_type": "stream",
     "text": [
      "/home/mehdi2277/Documents/HarveyMuddWork/Neural_Nets_Research/neural_nets_research\n"
     ]
    }
   ],
   "source": [
    "cd .."
   ]
  },
  {
   "cell_type": "code",
   "execution_count": 2,
   "metadata": {},
   "outputs": [],
   "source": [
    "import torch.optim as optim\n",
    "import torch.nn as nn\n",
    "import torch\n",
    "import matplotlib.pyplot as plt\n",
    "import datetime\n",
    "\n",
    "from neural_nets_library import training\n",
    "from tree_to_sequence.tree_encoder import TreeEncoder\n",
    "from tree_to_sequence.tree_encoder_batch import TreeEncoderBatch\n",
    "from tree_to_sequence.tree_decoder_batch import TreeDecoderBatch\n",
    "from tree_to_sequence.program_datasets import *\n",
    "from tree_to_sequence.tree_to_tree_attention_batch import TreeToTreeAttentionBatch\n",
    "from functools import partial"
   ]
  },
  {
   "cell_type": "code",
   "execution_count": 3,
   "metadata": {
    "code_folding": [],
    "hide_input": false
   },
   "outputs": [],
   "source": [
    "num_vars = 10\n",
    "num_ints = 11\n",
    "one_hot = False\n",
    "binarize_input = True\n",
    "binarize_output = True\n",
    "eos_token = True\n",
    "long_base_case = True\n",
    "input_as_seq = False\n",
    "output_as_seq = False\n",
    "num_layers = 1"
   ]
  },
  {
   "cell_type": "code",
   "execution_count": 4,
   "metadata": {
    "code_folding": [],
    "hide_input": false,
    "scrolled": true
   },
   "outputs": [
    {
     "name": "stdout",
     "output_type": "stream",
     "text": [
      "Num batches 104\n",
      "total length is 10000\n",
      "batch size is 97\n",
      "shortest 11\n",
      "longest 97\n",
      "shortest 11\n"
     ]
    }
   ],
   "source": [
    "# for_lambda_dset = ForLambdaDataset(\"ANC/AdditionalForDatasets/ForWithLevels/Easy-arbitraryForList.json\", binarize_input=binarize_input, \n",
    "#                                    binarize_output=binarize_output, eos_token=eos_token, one_hot=one_hot, \n",
    "#                                    long_base_case=long_base_case, input_as_seq=input_as_seq,\n",
    "#                                    output_as_seq=output_as_seq, num_samples=None, sort_by_length=True)\n",
    "for_lambda_dset = ForLambdaDatasetLengthBatched(\"ANC/AdditionalForDatasets/ForWithLevels/Easy-arbitraryForList.json\", 97,\n",
    "                                   binarize_input=binarize_input, binarize_output=binarize_output, \n",
    "                                   eos_token=eos_token, one_hot=one_hot, \n",
    "                                   long_base_case=long_base_case, input_as_seq=input_as_seq,\n",
    "                                   output_as_seq=output_as_seq, num_samples=10000)\n",
    "\n",
    "\n",
    "\n",
    "\n",
    "max_size = max([item[1].size() for batch in for_lambda_dset for item in batch])"
   ]
  },
  {
   "cell_type": "code",
   "execution_count": 5,
   "metadata": {
    "scrolled": true
   },
   "outputs": [],
   "source": [
    "# _ = [print(x[0].size()) for x in for_lambda_dset]\n",
    "\n",
    "# def add_index(root, index=0):\n",
    "#     root.index = index\n",
    "#     for child in children:\n",
    "#         index = \n",
    "\n",
    "# for_lambda_dset_new = []\n",
    "# for input_tree, target_tree in for_lambda_dset:\n",
    "#     input_tree.index = \n"
   ]
  },
  {
   "cell_type": "code",
   "execution_count": 6,
   "metadata": {},
   "outputs": [],
   "source": [
    "def reset_all_parameters_uniform(model, stdev):\n",
    "    for param in model.parameters():\n",
    "        nn.init.uniform_(param, -stdev, stdev)"
   ]
  },
  {
   "cell_type": "code",
   "execution_count": 7,
   "metadata": {
    "scrolled": false
   },
   "outputs": [
    {
     "name": "stderr",
     "output_type": "stream",
     "text": [
      "/usr/local/lib/python3.6/dist-packages/torch/nn/functional.py:52: UserWarning: size_average and reduce args will be deprecated, please use reduction='none' instead.\n",
      "  warnings.warn(warning.format(ret))\n"
     ]
    }
   ],
   "source": [
    "embedding_size = 4#100 #... 256 is from the paper, but 100 is WAY faster\n",
    "hidden_size = 3#256\n",
    "alignment_size = 50\n",
    "align_type = 1\n",
    "encoder_input_size = num_vars + num_ints + len(for_ops)\n",
    "encoder = TreeEncoder(encoder_input_size, hidden_size, num_layers, [1, 2, 3, 4, 5], attention=True, one_hot=one_hot, binary_tree_lstm_cell=True, annotation_method=None, randomize_hiddens=False)\n",
    "# encoder = TreeEncoderBatch(embedding_size, hidden_size)\n",
    "nclass = num_vars + num_ints + len(lambda_ops)\n",
    "plot_every = 100\n",
    "max_num_children = 2 if binarize_output else 4\n",
    "\n",
    "decoder = TreeDecoderBatch(embedding_size, hidden_size, max_num_children, nclass=nclass)\n",
    "program_model = TreeToTreeAttentionBatch(encoder, decoder, hidden_size, embedding_size, nclass=nclass, max_size=max_size,\n",
    "                                    alignment_size=alignment_size, align_type=align_type)\n",
    "    \n",
    "reset_all_parameters_uniform(program_model, 0.1)\n",
    "encoder.initialize_forget_bias(3)\n",
    "decoder.initialize_forget_bias(3)"
   ]
  },
  {
   "cell_type": "code",
   "execution_count": 8,
   "metadata": {},
   "outputs": [],
   "source": [
    "# program_model = program_model.cuda()"
   ]
  },
  {
   "cell_type": "code",
   "execution_count": 9,
   "metadata": {
    "code_folding": [
     0
    ]
   },
   "outputs": [],
   "source": [
    "optimizer = optim.Adam(program_model.parameters(), lr=0.005)\n",
    "lr_scheduler = optim.lr_scheduler.ReduceLROnPlateau(optimizer, verbose=True, patience=500, factor=0.8)"
   ]
  },
  {
   "cell_type": "code",
   "execution_count": 10,
   "metadata": {},
   "outputs": [],
   "source": [
    "# Counts the number of matches between the prediction and target.\n",
    "def count_matches(prediction, target):\n",
    "    matches = 0\n",
    "    if int(prediction.value) == int(target.value):\n",
    "        matches += 1\n",
    "    for i in range(min(len(target.children), len(prediction.children))):\n",
    "        matches += count_matches(prediction.children[i], target.children[i])\n",
    "    return matches\n",
    "\n",
    "# Program accuracy (1 if completely correct, 0 otherwise)\n",
    "def program_accuracy(prediction, target):\n",
    "    if prediction.size() == count_matches(prediction, target) and \\\n",
    "       prediction.size() == target.size():\n",
    "        return 1\n",
    "    else:\n",
    "        return 0\n",
    "\n",
    "# Calculate validation accuracy (this could either be program or token accuracy)\n",
    "def validation_criterion(prediction, target):\n",
    "    return program_accuracy(prediction, target)"
   ]
  },
  {
   "cell_type": "code",
   "execution_count": 11,
   "metadata": {},
   "outputs": [],
   "source": [
    "program_model.update_max_size(max_size)"
   ]
  },
  {
   "cell_type": "code",
   "execution_count": 12,
   "metadata": {
    "pixiedust": {
     "displayParams": {}
    },
    "scrolled": false
   },
   "outputs": [
    {
     "name": "stdout",
     "output_type": "stream",
     "text": [
      "Epoch 0/4\n",
      "----------\n",
      "Epoch Number: 0, Batch Number: 20, Training Loss: 61.7319\n",
      "Time so far is 0m 13s\n",
      "Epoch Number: 0, Batch Number: 40, Training Loss: 51.2736\n",
      "Time so far is 0m 24s\n",
      "Epoch Number: 0, Batch Number: 60, Training Loss: 44.3589\n",
      "Time so far is 0m 36s\n",
      "Epoch Number: 0, Batch Number: 80, Training Loss: 39.4713\n",
      "Time so far is 0m 48s\n",
      "Epoch Number: 0, Batch Number: 100, Training Loss: 34.2055\n",
      "Time so far is 0m 60s\n",
      "just finished epoch 0\n",
      "Epoch 1/4\n",
      "----------\n",
      "Epoch Number: 1, Batch Number: 16, Training Loss: 35.9689\n",
      "Time so far is 1m 13s\n",
      "Epoch Number: 1, Batch Number: 36, Training Loss: 31.2939\n",
      "Time so far is 1m 24s\n",
      "Epoch Number: 1, Batch Number: 56, Training Loss: 30.9448\n",
      "Time so far is 1m 36s\n",
      "Epoch Number: 1, Batch Number: 76, Training Loss: 33.4347\n",
      "Time so far is 1m 48s\n",
      "Epoch Number: 1, Batch Number: 96, Training Loss: 31.9416\n",
      "Time so far is 2m 0s\n",
      "just finished epoch 1\n",
      "Epoch 2/4\n",
      "----------\n",
      "Epoch Number: 2, Batch Number: 12, Training Loss: 33.7940\n",
      "Time so far is 2m 13s\n",
      "Epoch Number: 2, Batch Number: 32, Training Loss: 31.0945\n",
      "Time so far is 2m 24s\n",
      "Epoch Number: 2, Batch Number: 52, Training Loss: 30.3587\n",
      "Time so far is 2m 36s\n",
      "Epoch Number: 2, Batch Number: 72, Training Loss: 32.9461\n",
      "Time so far is 2m 48s\n",
      "Epoch Number: 2, Batch Number: 92, Training Loss: 32.2297\n",
      "Time so far is 3m 0s\n",
      "just finished epoch 2\n",
      "Epoch 3/4\n",
      "----------\n",
      "Epoch Number: 3, Batch Number: 8, Training Loss: 31.5463\n",
      "Time so far is 3m 13s\n",
      "Epoch Number: 3, Batch Number: 28, Training Loss: 33.4509\n",
      "Time so far is 3m 26s\n",
      "Epoch Number: 3, Batch Number: 48, Training Loss: 28.7149\n",
      "Time so far is 3m 37s\n",
      "Epoch Number: 3, Batch Number: 68, Training Loss: 31.7532\n",
      "Time so far is 3m 49s\n",
      "Epoch Number: 3, Batch Number: 88, Training Loss: 32.2592\n",
      "Time so far is 4m 2s\n",
      "just finished epoch 3\n",
      "Epoch 4/4\n",
      "----------\n",
      "Epoch Number: 4, Batch Number: 4, Training Loss: 30.0696\n",
      "Time so far is 4m 14s\n",
      "Epoch Number: 4, Batch Number: 24, Training Loss: 31.0478\n",
      "Time so far is 4m 26s\n",
      "Epoch Number: 4, Batch Number: 44, Training Loss: 27.4064\n",
      "Time so far is 4m 38s\n",
      "Epoch Number: 4, Batch Number: 64, Training Loss: 26.1938\n",
      "Time so far is 4m 50s\n",
      "Epoch Number: 4, Batch Number: 84, Training Loss: 26.1125\n",
      "Time so far is 5m 2s\n",
      "Epoch Number: 4, Batch Number: 104, Training Loss: 24.5263\n",
      "Time so far is 5m 14s\n",
      "just finished epoch 4\n",
      "all done!!!\n",
      "Training complete in 5m 14s\n",
      "TIME 0:05:14.358286\n"
     ]
    }
   ],
   "source": [
    "start = datetime.datetime.now()\n",
    "with torch.cuda.device(1):\n",
    "    best_model, train_plot_losses, validation_plot_losses = training.yet_another_train_func(program_model, for_lambda_dset, \n",
    "                                 optimizer, lr_scheduler=None, num_epochs=5, plot_every=1,\n",
    "                                 batch_size=90, print_every=20, validation_criterion=None,\n",
    "                                 use_cuda=True)\n",
    "end = datetime.datetime.now()\n",
    "print(\"TIME\", end - start)"
   ]
  },
  {
   "cell_type": "code",
   "execution_count": 13,
   "metadata": {},
   "outputs": [
    {
     "data": {
      "image/png": "[encoded data removed]",
      "text/plain": [
       "<Figure size 432x288 with 1 Axes>"
      ]
     },
     "metadata": {},
     "output_type": "display_data"
    },
    {
     "data": {
      "image/png": "[encoded data removed]",
      "text/plain": [
       "<Figure size 432x288 with 1 Axes>"
      ]
     },
     "metadata": {},
     "output_type": "display_data"
    }
   ],
   "source": [
    "plt.plot([x * plot_every for x in range(len(train_plot_losses))], train_plot_losses)\n",
    "plt.show()\n",
    "\n",
    "plt.plot([x * plot_every for x in range(len(validation_plot_losses))], validation_plot_losses)\n",
    "plt.show()"
   ]
  },
  {
   "cell_type": "code",
   "execution_count": 14,
   "metadata": {},
   "outputs": [],
   "source": [
    "train_plot_losses_old = train_plot_losses#_old + train_plot_losses_new\n",
    "validation_plot_losses_old = validation_plot_losses#_old + validation_plot_losses_new\n",
    "\n",
    "# import csv\n",
    "\n",
    "# torch.save(program_model, \"max-big-t2t-all-vars-model\")\n",
    "# with open(\"max-big-t2t-all-vars-train.txt\", \"w\") as output:\n",
    "#     writer = csv.writer(output, lineterminator='\\n')\n",
    "#     for val in train_plot_losses:\n",
    "#         writer.writerow([val]) \n",
    "# with open(\"max-big-t2t-all-vars-validation.txt\", \"w\") as output:\n",
    "#     writer = csv.writer(output, lineterminator='\\n')\n",
    "#     for val in validation_plot_losses:\n",
    "#         writer.writerow([val]) "
   ]
  },
  {
   "cell_type": "code",
   "execution_count": 15,
   "metadata": {},
   "outputs": [
    {
     "ename": "TypeError",
     "evalue": "parent_to_category_LAMBDA() takes 3 positional arguments but 4 were given",
     "output_type": "error",
     "traceback": [
      "\u001b[0;31m---------------------------------------------------------------------------\u001b[0m",
      "\u001b[0;31mTypeError\u001b[0m                                 Traceback (most recent call last)",
      "\u001b[0;32m<ipython-input-15-ab9b9126493d>\u001b[0m in \u001b[0;36m<module>\u001b[0;34m()\u001b[0m\n\u001b[1;32m     34\u001b[0m \u001b[0;34m\u001b[0m\u001b[0m\n\u001b[1;32m     35\u001b[0m \u001b[0;34m\u001b[0m\u001b[0m\n\u001b[0;32m---> 36\u001b[0;31m \u001b[0mcheck_all\u001b[0m\u001b[0;34m(\u001b[0m\u001b[0;34m)\u001b[0m \u001b[0;31m#kangaroo\u001b[0m\u001b[0;34m\u001b[0m\u001b[0m\n\u001b[0m",
      "\u001b[0;32m<ipython-input-15-ab9b9126493d>\u001b[0m in \u001b[0;36mcheck_all\u001b[0;34m()\u001b[0m\n\u001b[1;32m     25\u001b[0m     \u001b[0;31m# Check grammar is right\u001b[0m\u001b[0;34m\u001b[0m\u001b[0;34m\u001b[0m\u001b[0m\n\u001b[1;32m     26\u001b[0m     \u001b[0;32mfor\u001b[0m \u001b[0mprog\u001b[0m \u001b[0;32min\u001b[0m \u001b[0mfor_lambda_dset\u001b[0m\u001b[0;34m:\u001b[0m\u001b[0;34m\u001b[0m\u001b[0m\n\u001b[0;32m---> 27\u001b[0;31m         \u001b[0mcorrect\u001b[0m \u001b[0;34m=\u001b[0m \u001b[0mcheck_valid\u001b[0m\u001b[0;34m(\u001b[0m\u001b[0mprog\u001b[0m\u001b[0;34m[\u001b[0m\u001b[0;36m1\u001b[0m\u001b[0;34m]\u001b[0m\u001b[0;34m,\u001b[0m \u001b[0;32mNone\u001b[0m\u001b[0;34m,\u001b[0m \u001b[0;36m0\u001b[0m\u001b[0;34m)\u001b[0m\u001b[0;34m\u001b[0m\u001b[0m\n\u001b[0m\u001b[1;32m     28\u001b[0m         \u001b[0;32mif\u001b[0m \u001b[0mcorrect\u001b[0m \u001b[0;32mis\u001b[0m \u001b[0;32mFalse\u001b[0m\u001b[0;34m:\u001b[0m\u001b[0;34m\u001b[0m\u001b[0m\n\u001b[1;32m     29\u001b[0m             \u001b[0mprint\u001b[0m\u001b[0;34m(\u001b[0m\u001b[0mi\u001b[0m\u001b[0;34m)\u001b[0m\u001b[0;34m\u001b[0m\u001b[0m\n",
      "\u001b[0;32m<ipython-input-15-ab9b9126493d>\u001b[0m in \u001b[0;36mcheck_valid\u001b[0;34m(node, parent, child_index)\u001b[0m\n\u001b[1;32m      4\u001b[0m \u001b[0;31m# Then recursively do it for all the node's children\u001b[0m\u001b[0;34m\u001b[0m\u001b[0;34m\u001b[0m\u001b[0m\n\u001b[1;32m      5\u001b[0m \u001b[0;32mdef\u001b[0m \u001b[0mcheck_valid\u001b[0m\u001b[0;34m(\u001b[0m\u001b[0mnode\u001b[0m\u001b[0;34m,\u001b[0m \u001b[0mparent\u001b[0m\u001b[0;34m,\u001b[0m \u001b[0mchild_index\u001b[0m\u001b[0;34m)\u001b[0m\u001b[0;34m:\u001b[0m\u001b[0;34m\u001b[0m\u001b[0m\n\u001b[0;32m----> 6\u001b[0;31m     \u001b[0mcategory\u001b[0m \u001b[0;34m=\u001b[0m \u001b[0mparent_to_category_LAMBDA\u001b[0m\u001b[0;34m(\u001b[0m\u001b[0mparent\u001b[0m\u001b[0;34m,\u001b[0m \u001b[0mchild_index\u001b[0m\u001b[0;34m,\u001b[0m \u001b[0mnum_vars\u001b[0m\u001b[0;34m,\u001b[0m \u001b[0mnum_ints\u001b[0m\u001b[0;34m)\u001b[0m\u001b[0;34m\u001b[0m\u001b[0m\n\u001b[0m\u001b[1;32m      7\u001b[0m     \u001b[0mpossible_outputs\u001b[0m \u001b[0;34m=\u001b[0m \u001b[0mcategory_to_child_LAMBDA\u001b[0m\u001b[0;34m(\u001b[0m\u001b[0mcategory\u001b[0m\u001b[0;34m,\u001b[0m \u001b[0mnum_vars\u001b[0m\u001b[0;34m,\u001b[0m \u001b[0mnum_ints\u001b[0m\u001b[0;34m)\u001b[0m\u001b[0;34m\u001b[0m\u001b[0m\n\u001b[1;32m      8\u001b[0m     \u001b[0;32mif\u001b[0m \u001b[0;32mnot\u001b[0m \u001b[0mint\u001b[0m\u001b[0;34m(\u001b[0m\u001b[0mnode\u001b[0m\u001b[0;34m.\u001b[0m\u001b[0mvalue\u001b[0m\u001b[0;34m)\u001b[0m \u001b[0;32min\u001b[0m \u001b[0mpossible_outputs\u001b[0m\u001b[0;34m:\u001b[0m\u001b[0;34m\u001b[0m\u001b[0m\n",
      "\u001b[0;31mTypeError\u001b[0m: parent_to_category_LAMBDA() takes 3 positional arguments but 4 were given"
     ]
    }
   ],
   "source": [
    "##### n = num_ints + num_vars\n",
    "\n",
    "# Check whether a node is syntactically valid, given its parent and index\n",
    "# Then recursively do it for all the node's children\n",
    "def check_valid(node, parent, child_index):\n",
    "    category = parent_to_category_LAMBDA(parent, child_index, num_vars, num_ints)\n",
    "    possible_outputs = category_to_child_LAMBDA(category, num_vars, num_ints)\n",
    "    if not int(node.value) in possible_outputs:\n",
    "        print(\"parent\", parent, \"child_index\", child_index)\n",
    "        print(\"ERROR\", int(node.value), category)\n",
    "        return False\n",
    "    if (len(node.children) > 0):\n",
    "        child1 = check_valid(node.children[0], int(node.value), 0)\n",
    "        if not child1:\n",
    "            return False\n",
    "        child2 = check_valid(node.children[1], parent, child_index + 1)\n",
    "        if not child2:\n",
    "            return False\n",
    "    return True\n",
    "\n",
    "# Check all the programs in a dataset for syntactic accuracy\n",
    "# (this is a debugging function used to double check the accuracy of your grammar)\n",
    "def check_all():\n",
    "    i = 0\n",
    "    # Check grammar is right\n",
    "    for prog in for_lambda_dset:\n",
    "        correct = check_valid(prog[1], None, 0)\n",
    "        if correct is False:\n",
    "            print(i)\n",
    "            pretty_print_tree(prog[1])\n",
    "            return\n",
    "        i += 1\n",
    "        \n",
    "        \n",
    "        \n",
    "check_all() #kangaroo"
   ]
  },
  {
   "cell_type": "code",
   "execution_count": null,
   "metadata": {},
   "outputs": [],
   "source": [
    "import collections\n",
    "\n",
    "import torch\n",
    "\n",
    "class Fold(object):\n",
    "\n",
    "    class Node(object):\n",
    "        def __init__(self, op, step, index, *args):\n",
    "            self.op = op\n",
    "            self.step = step\n",
    "            self.index = index\n",
    "            self.args = args\n",
    "            self.split_idx = -1\n",
    "            self.batch = True\n",
    "\n",
    "        def split(self, num):\n",
    "            \"\"\"Split resulting node, if function returns multiple values.\"\"\"\n",
    "            nodes = []\n",
    "            for idx in range(num):\n",
    "                nodes.append(Fold.Node(\n",
    "                    self.op, self.step, self.index, *self.args))\n",
    "                nodes[-1].split_idx = idx\n",
    "            return tuple(nodes)\n",
    "\n",
    "        def nobatch(self):\n",
    "            self.batch = False\n",
    "            return self\n",
    "\n",
    "        def get(self, values):\n",
    "            return values[self.step][self.op].get(self.index, self.split_idx)\n",
    "\n",
    "        def __repr__(self):\n",
    "            return \"[%d:%d]%s\" % (self.step, self.index, self.op)\n",
    "\n",
    "    class ComputedResult(object):\n",
    "        def __init__(self, batch_size, batched_result):\n",
    "            self.batch_size = batch_size\n",
    "            self.result = batched_result\n",
    "            if isinstance(self.result, tuple):\n",
    "                self.result = list(self.result)\n",
    "\n",
    "        def try_get_batched(self, nodes):\n",
    "            all_are_nodes = all(isinstance(n, Fold.Node) for n in nodes)\n",
    "            num_nodes_is_equal = len(nodes) == self.batch_size\n",
    "            if not all_are_nodes or not num_nodes_is_equal:\n",
    "                return None\n",
    "\n",
    "            valid_node_sequence = all(\n",
    "                nodes[i].index < nodes[i + 1].index  # Indices are ordered\n",
    "                and nodes[i].split_idx == nodes[i + 1].split_idx  # Same split index\n",
    "                and nodes[i].step == nodes[i + 1].step  # Same step\n",
    "                and nodes[i].op == nodes[i + 1].op  # Same op\n",
    "                for i in range(len(nodes) - 1))\n",
    "            if not valid_node_sequence:\n",
    "                return None\n",
    "\n",
    "            if nodes[0].split_idx == -1 and not isinstance(self.result, tuple):\n",
    "                return self.result\n",
    "            elif nodes[0].split_idx >= 0 and not isinstance(self.result[nodes[0].split_idx], tuple):\n",
    "                return self.result[nodes[0].split_idx]\n",
    "            else:\n",
    "                # This result was already chunked.\n",
    "                return None\n",
    "                        res.append(\n",
    "                            torch.cat([arg_item.get(values) for arg_item in arg], 0))\n",
    "                else:\n",
    "                    for arg_item in arg[1:]:\n",
    "                        if arg_item != arg[0]:\n",
    "                            raise ValueError(\"Can not use more then one of nobatch argument, got: %s.\" % str(arg_item))\n",
    "                    res.append(arg[0].get(values))\n",
    "            else:\n",
    "                for arg_item in arg:\n",
    "                    if isinstance(arg_item, Fold.Node):\n",
    "                        assert arg_item.batch\n",
    "                        r.append(arg_item.get(values))\n",
    "                    elif isinstance(arg_item, torch.Tensor):\n",
    "                        r.append(arg_item)\n",
    "                res.append(torch.cat(r, 0))\n",
    "        return res\n",
    "\n",
    "    def apply(self, nn, nodes):\n",
    "        \"\"\"Apply current fold to given neural module.\"\"\"\n",
    "        self.nodes = nodes\n",
    "        values = {}\n",
    "        for step in sorted(self.steps.keys()):\n",
    "            values[step] = {}\n",
    "            for op in self.steps[step]:\n",
    "                func = getattr(nn, op)\n",
    "                try:\n",
    "                    batched_args = self._batch_args(zip(*self.steps[step][op]), values)\n",
    "                except Exception:\n",
    "                    print(\"Error while executing node %s[%d] with args: %s\" % (op, step, self.steps[step][op][0]))\n",
    "                    raise\n",
    "                if batched_args:\n",
    "                    arg_size = batched_args[0].size()[0]\n",
    "                else:\n",
    "                    arg_size = 1\n",
    "                res = func(*batched_args)\n",
    "                values[step][op] = Fold.ComputedResult(arg_size, res)\n",
    "                self.values = values\n",
    "        try:\n",
    "            return self._batch_args(nodes, values)\n",
    "        except Exception:\n",
    "            print(\"Retrieving %s\" % nodes)\n",
    "            for lst in nodes:\n",
    "                if isinstance(lst[0], Fold.Node):\n",
    "                    print(', '.join([str(x.get(values).size()) for x in lst]))\n",
    "            raise\n",
    "\n",
    "    def __str__(self):\n",
    "        result = ''\n",
    "        for step in sorted(self.steps.keys()):\n",
    "            result += '%d step:\\n' % step\n",
    "            for op in self.steps[step]:\n",
    "                first_el = ''\n",
    "                for arg in self.steps[step][op][0]:\n",
    "                    if first_el: first_el += ', '\n",
    "                    if isinstance(arg, torch.Tensor):\n",
    "                        first_el += str(arg.size())\n",
    "                    else:\n",
    "                        first_el += str(arg)\n",
    "                result += '\\t%s = %d x (%s)\\n' % (op, len(self.steps[step][op]), first_el)\n",
    "        return result\n",
    "\n",
    "    def __repr__(self):\n",
    "        return str(self)\n",
    "\n",
    "                                                                                                                                           1,17          Top\n"
   ]
  }
 ],
 "metadata": {
  "kernelspec": {
   "display_name": "Python 3",
   "language": "python",
   "name": "python3"
  },
  "language_info": {
   "codemirror_mode": {
    "name": "ipython",
    "version": 3
   },
   "file_extension": ".py",
   "mimetype": "text/x-python",
   "name": "python",
   "nbconvert_exporter": "python",
   "pygments_lexer": "ipython3",
   "version": "3.6.6"
  },
  "notify_time": "10"
 },
 "nbformat": 4,
 "nbformat_minor": 1
}
