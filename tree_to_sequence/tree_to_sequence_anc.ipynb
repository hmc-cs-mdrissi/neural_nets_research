{
 "cells": [
  {
   "cell_type": "code",
   "execution_count": null,
   "metadata": {},
   "outputs": [],
   "source": [
    "cd .."
   ]
  },
  {
   "cell_type": "code",
   "execution_count": 1,
   "metadata": {},
   "outputs": [
    {
     "ename": "ModuleNotFoundError",
     "evalue": "No module named 'tree_to_sequence.program_datasets'; 'tree_to_sequence' is not a package",
     "output_type": "error",
     "traceback": [
      "\u001b[0;31m---------------------------------------------------------------------------\u001b[0m",
      "\u001b[0;31mModuleNotFoundError\u001b[0m                       Traceback (most recent call last)",
      "\u001b[0;32m<ipython-input-1-b01ddc74ff9b>\u001b[0m in \u001b[0;36m<module>\u001b[0;34m()\u001b[0m\n\u001b[1;32m      2\u001b[0m \u001b[0;32mimport\u001b[0m \u001b[0mtorch\u001b[0m\u001b[0;34m.\u001b[0m\u001b[0mnn\u001b[0m \u001b[0;32mas\u001b[0m \u001b[0mnn\u001b[0m\u001b[0;34m\u001b[0m\u001b[0m\n\u001b[1;32m      3\u001b[0m \u001b[0;34m\u001b[0m\u001b[0m\n\u001b[0;32m----> 4\u001b[0;31m \u001b[0;32mfrom\u001b[0m \u001b[0mtree_to_sequence\u001b[0m\u001b[0;34m.\u001b[0m\u001b[0mprogram_datasets\u001b[0m \u001b[0;32mimport\u001b[0m \u001b[0mTreeANCDataset\u001b[0m\u001b[0;34m\u001b[0m\u001b[0m\n\u001b[0m\u001b[1;32m      5\u001b[0m \u001b[0;32mfrom\u001b[0m \u001b[0mtree_to_sequence\u001b[0m\u001b[0;34m.\u001b[0m\u001b[0mtree_to_sequence_attention_anc\u001b[0m \u001b[0;32mimport\u001b[0m \u001b[0mTreeToSequenceAttentionANC\u001b[0m\u001b[0;34m\u001b[0m\u001b[0m\n\u001b[1;32m      6\u001b[0m \u001b[0;32mfrom\u001b[0m \u001b[0mtree_to_sequence\u001b[0m\u001b[0;34m.\u001b[0m\u001b[0mtree_encoder\u001b[0m \u001b[0;32mimport\u001b[0m \u001b[0mTreeEncoder\u001b[0m\u001b[0;34m\u001b[0m\u001b[0m\n",
      "\u001b[0;31mModuleNotFoundError\u001b[0m: No module named 'tree_to_sequence.program_datasets'; 'tree_to_sequence' is not a package"
     ]
    }
   ],
   "source": [
    "import torch.optim as optim\n",
    "import torch.nn as nn\n",
    "\n",
    "from tree_to_sequence.program_datasets import TreeANCDataset\n",
    "from tree_to_sequence.tree_to_sequence_attention_anc import TreeToSequenceAttentionANC\n",
    "from tree_to_sequence.tree_encoder import TreeEncoder\n",
    "from tree_to_sequence.sequence_encoder import SequenceEncoder\n",
    "from tree_to_sequence.multilayer_lstm_cell import MultilayerLSTMCell\n",
    "from tree_to_sequence.translating_trees import tree_to_list, decode_tokens, print_tree\n",
    "from neural_nets_library import training\n",
    "from anc.util import printProgram"
   ]
  },
  {
   "cell_type": "code",
   "execution_count": null,
   "metadata": {
    "code_folding": [
     3,
     19
    ],
    "collapsed": true
   },
   "outputs": [],
   "source": [
    "num_vars = 10\n",
    "num_ints = 11\n",
    "\n",
    "for_ops = {\n",
    "    \"Var\": 0,\n",
    "    \"Const\": 1,\n",
    "    \"Plus\": 2,\n",
    "    \"Minus\": 3,\n",
    "    \"EqualFor\": 4,\n",
    "    \"LeFor\": 5,\n",
    "    \"GeFor\": 6,\n",
    "    \"Assign\": 7,\n",
    "    \"If\": 8,\n",
    "    \"Seq\": 9,\n",
    "    \"For\": 10\n",
    "}\n",
    "\n",
    "for_ops = {\"<\" + k.upper() + \">\": v for k,v in for_ops.items()}\n",
    "\n",
    "lambda_calculus_ops = {\n",
    "                \"<VARIABLE>\": 0,\n",
    "                \"<ABSTRACTION>\": 1,\n",
    "                \"<NUMBER>\": 2,\n",
    "                \"<BOOLEAN>\": 3,\n",
    "                \"<NIL>\": 4,\n",
    "                \"<IF>\": 5,\n",
    "                \"<CONS>\": 6,\n",
    "                \"<MATCH>\": 7,\n",
    "                \"<UNARYOPER>\": 8,\n",
    "                \"<BINARYOPER>\": 9,\n",
    "                \"<LET>\": 10,\n",
    "                \"<LETREC>\": 11,\n",
    "                \"<TRUE>\": 12,\n",
    "                \"<FALSE>\": 13,\n",
    "                \"<TINT>\": 14,\n",
    "                \"<TBOOL>\": 15,\n",
    "                \"<TINTLIST>\": 16,\n",
    "                \"<TFUN>\": 17,\n",
    "                \"<ARGUMENT>\": 18,\n",
    "                \"<NEG>\": 19,\n",
    "                \"<NOT>\": 20,\n",
    "                \"<PLUS>\": 21,\n",
    "                \"<MINUS>\": 22,\n",
    "                \"<TIMES>\": 23,\n",
    "                \"<DIVIDE>\": 24,\n",
    "                \"<AND>\": 25,\n",
    "                \"<OR>\": 26,\n",
    "                \"<EQUAL>\": 27,\n",
    "                \"<LESS>\": 28,\n",
    "                \"<APPLICATION>\": 29,\n",
    "                \"<HEAD>\": 30,\n",
    "                \"<TAIL>\": 31\n",
    "            }"
   ]
  },
  {
   "cell_type": "code",
   "execution_count": null,
   "metadata": {
    "code_folding": [],
    "collapsed": true,
    "hide_input": false
   },
   "outputs": [],
   "source": [
    "input_eos_token = False\n",
    "input_as_seq = False\n",
    "use_embedding = True\n",
    "eos_bonus = 1 if input_eos_token and input_as_seq else 0\n",
    "long_base_case = True\n",
    "binarize = True"
   ]
  },
  {
   "cell_type": "code",
   "execution_count": null,
   "metadata": {
    "code_folding": [],
    "collapsed": true,
    "hide_input": false
   },
   "outputs": [],
   "source": [
    "is_lambda_calculus = False\n",
    "M, R = 5, 3\n",
    "N = 11\n",
    "\n",
    "for_anc_dset = TreeANCDataset(\"ANC/Easy-arbitraryForListWithOutput.json\", \n",
    "                              is_lambda_calculus, num_ints = M,\n",
    "                              binarize=binarize, input_eos_token=input_eos_token, \n",
    "                              use_embedding=use_embedding, long_base_case=long_base_case, \n",
    "                              input_as_seq=input_as_seq, cuda=True)"
   ]
  },
  {
   "cell_type": "code",
   "execution_count": null,
   "metadata": {
    "code_folding": [
     0
    ],
    "collapsed": true
   },
   "outputs": [],
   "source": [
    "def reset_all_parameters_uniform(model, stdev):\n",
    "    for param in model.parameters():\n",
    "        nn.init.uniform(param, -stdev, stdev)"
   ]
  },
  {
   "cell_type": "code",
   "execution_count": null,
   "metadata": {
    "collapsed": true
   },
   "outputs": [],
   "source": [
    "embedding_size = 200\n",
    "hidden_size = 200\n",
    "num_layers = 1\n",
    "alignment_size = 50\n",
    "align_type = 1\n",
    "encoder_input_size = num_vars + num_ints + len(for_ops.keys()) + eos_bonus\n",
    "\n",
    "if input_as_seq:\n",
    "    encoder = SequenceEncoder(encoder_input_size, hidden_size, num_layers, attention=True, use_embedding=use_embedding)\n",
    "else:\n",
    "    encoder = TreeEncoder(encoder_input_size, hidden_size, num_layers, [1, 2], attention=True, use_embedding=use_embedding)\n",
    "\n",
    "decoder = MultilayerLSTMCell(N + 3*R + hidden_size, hidden_size, num_layers)\n",
    "program_model = TreeToSequenceAttentionANC(encoder, decoder, hidden_size, embedding_size, M, R, \n",
    "                                           alignment_size=alignment_size, align_type=align_type,\n",
    "                                           correctness_weight=5, halting_weight=1, confidence_weight=5, \n",
    "                                           efficiency_weight=1, diversity_weight=0, mix_probabilities=True,\n",
    "                                           predict_registers=True)\n",
    "    \n",
    "reset_all_parameters_uniform(program_model, 0.1)\n",
    "encoder.initialize_forget_bias(3)\n",
    "decoder.initialize_forget_bias(3)"
   ]
  },
  {
   "cell_type": "code",
   "execution_count": null,
   "metadata": {
    "collapsed": true
   },
   "outputs": [],
   "source": [
    "program_model = program_model.cuda()"
   ]
  },
  {
   "cell_type": "code",
   "execution_count": null,
   "metadata": {
    "code_folding": [
     0
    ],
    "collapsed": true
   },
   "outputs": [],
   "source": [
    "optimizer = optim.Adam(program_model.parameters(), lr=0.005)\n",
    "lr_scheduler = optim.lr_scheduler.ReduceLROnPlateau(optimizer, verbose=True, patience=20000, factor=0.8)"
   ]
  },
  {
   "cell_type": "code",
   "execution_count": null,
   "metadata": {
    "collapsed": true
   },
   "outputs": [],
   "source": [
    "training.train_model_tree_to_anc(program_model, itertools.repeat(for_anc_dset[1], 100000), \n",
    "                                 optimizer, lr_scheduler=lr_scheduler, num_epochs=1, \n",
    "                                 batch_size=1, plateau_lr=True, print_every=200)"
   ]
  },
  {
   "cell_type": "code",
   "execution_count": null,
   "metadata": {
    "collapsed": true,
    "scrolled": false
   },
   "outputs": [],
   "source": [
    "for prog, target in for_anc_dset[0:5]:\n",
    "    print(decode_tokens(tree_to_list(prog), 10, M, for_ops))\n",
    "    controller = program_model.forward_prediction(prog)\n",
    "    \n",
    "    input_memory = target[0][0]\n",
    "    correct_memory = target[1][0]\n",
    "    prediction_memory, _ = controller.forward_prediction([input_memory])\n",
    "    \n",
    "    printProgram(controller, 0.9)\n",
    "    print(correct_memory[0])\n",
    "    print(prediction_memory[0])\n",
    "    \n",
    "    mem_diff = correct_memory[0] - prediction_memory[0].data\n",
    "    \n",
    "    print(torch.sum(mem_diff * mem_diff))"
   ]
  }
 ],
 "metadata": {
  "kernelspec": {
   "display_name": "Python 3",
   "language": "python",
   "name": "python3"
  },
  "language_info": {
   "codemirror_mode": {
    "name": "ipython",
    "version": 3
   },
   "file_extension": ".py",
   "mimetype": "text/x-python",
   "name": "python",
   "nbconvert_exporter": "python",
   "pygments_lexer": "ipython3",
   "version": "3.6.2"
  },
  "notify_time": "10"
 },
 "nbformat": 4,
 "nbformat_minor": 1
}
