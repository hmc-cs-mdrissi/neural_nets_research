{
 "cells": [
  {
   "cell_type": "code",
   "execution_count": null,
   "metadata": {},
   "outputs": [],
   "source": [
    "cd .."
   ]
  },
  {
   "cell_type": "code",
   "execution_count": null,
   "metadata": {},
   "outputs": [],
   "source": [
    "from math_expressions.translating_math_trees import make_tree_math, make_tree_math_big\n",
    "import json\n",
    "import numpy as np\n",
    "from tree_to_sequence.translating_trees import pretty_print_tree\n",
    "from \n"
   ]
  },
  {
   "cell_type": "code",
   "execution_count": null,
   "metadata": {},
   "outputs": [],
   "source": [
    "tree_json_path = \"math_expressions/2011_parsed_train.json\"\n",
    "json_dset = json.load(open(tree_json_path))\n",
    "for_progs = [make_tree_math_big(prog, big_tree=False) for prog in json_dset]"
   ]
  },
  {
   "cell_type": "code",
   "execution_count": null,
   "metadata": {},
   "outputs": [],
   "source": [
    "max_size = max([tree.size() for tree in for_progs])\n",
    "worst = np.argmax([tree.size() for tree in for_progs])\n",
    "print(worst)\n",
    "print(max_size)"
   ]
  },
  {
   "cell_type": "code",
   "execution_count": null,
   "metadata": {
    "scrolled": true
   },
   "outputs": [],
   "source": [
    "pretty_print_tree(for_progs[838])"
   ]
  },
  {
   "cell_type": "code",
   "execution_count": null,
   "metadata": {},
   "outputs": [],
   "source": [
    "for_progs_other = [make_tree_math(prog, big_tree=False) for prog in json_dset]\n",
    "max_size = max([tree.size() for tree in for_progs_other])\n",
    "worst = np.argmax([tree.size() for tree in for_progs_other])\n",
    "print(worst)\n",
    "print(max_size)"
   ]
  },
  {
   "cell_type": "code",
   "execution_count": null,
   "metadata": {},
   "outputs": [],
   "source": [
    "pretty_print_tree(for_progs_other[838])"
   ]
  },
  {
   "cell_type": "code",
   "execution_count": null,
   "metadata": {},
   "outputs": [],
   "source": []
  },
  {
   "cell_type": "code",
   "execution_count": null,
   "metadata": {},
   "outputs": [],
   "source": [
    "from matplotlib import pyplot as plt\n",
    "plt.rcParams['figure.figsize'] = [10, 5]\n",
    "import numpy as np\n",
    "from imagetree_pair import *\n",
    "\n",
    "main()\n",
    "# def display_normally(pic, title=None):\n",
    "#     if not title is None:\n",
    "#         plt.title(title)\n",
    "#     plt.imshow(np.repeat(np.int0(pic)[:,:,np.newaxis], 3, axis=2))\n",
    "#     plt.show()\n",
    "# img, tree = train_data[0]\n",
    "# display_normally(img[:,:,0])\n",
    "# print(\"TREE\", tree)"
   ]
  },
  {
   "cell_type": "code",
   "execution_count": null,
   "metadata": {},
   "outputs": [],
   "source": [
    "plt.rcParams['figure.figsize'] = [10, 5]\n",
    "\n",
    "display_normally(img[:,:,0])"
   ]
  },
  {
   "cell_type": "code",
   "execution_count": null,
   "metadata": {},
   "outputs": [],
   "source": [
    "cd .."
   ]
  },
  {
   "cell_type": "code",
   "execution_count": null,
   "metadata": {},
   "outputs": [],
   "source": [
    "from tree_to_sequence.translating_trees import pretty_print_tree"
   ]
  },
  {
   "cell_type": "code",
   "execution_count": null,
   "metadata": {},
   "outputs": [],
   "source": [
    "pretty_print_tree(tree)"
   ]
  }
 ],
 "metadata": {
  "kernelspec": {
   "display_name": "Python 3",
   "language": "python",
   "name": "python3"
  },
  "language_info": {
   "codemirror_mode": {
    "name": "ipython",
    "version": 3
   },
   "file_extension": ".py",
   "mimetype": "text/x-python",
   "name": "python",
   "nbconvert_exporter": "python",
   "pygments_lexer": "ipython3",
   "version": "3.6.7"
  }
 },
 "nbformat": 4,
 "nbformat_minor": 2
}
