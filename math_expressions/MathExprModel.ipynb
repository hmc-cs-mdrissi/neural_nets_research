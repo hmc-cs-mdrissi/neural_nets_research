{
 "cells": [
  {
   "cell_type": "markdown",
   "metadata": {},
   "source": [
    "## Setup"
   ]
  },
  {
   "cell_type": "code",
   "execution_count": null,
   "metadata": {},
   "outputs": [],
   "source": [
    "cd .."
   ]
  },
  {
   "cell_type": "code",
   "execution_count": null,
   "metadata": {},
   "outputs": [],
   "source": [
    "import torch.optim as optim\n",
    "import torch.nn as nn\n",
    "import torch\n",
    "import matplotlib.pyplot as plt\n",
    "import numpy as np\n",
    "import random\n",
    "import pickle\n",
    "import cv2\n",
    "import time\n",
    "\n",
    "from neural_nets_library import training\n",
    "from tree_to_sequence.tree_decoder_batch import TreeDecoderBatch\n",
    "from tree_to_sequence.tree_to_tree_attention import TreeToTreeAttention\n",
    "from tree_to_sequence.tree_to_tree_attention_batch import TreeToTreeAttentionBatch\n",
    "from tree_to_sequence.program_datasets import *\n",
    "from functools import partial\n",
    "from math_expressions.translating_math_trees import math_tokens_short as math_tokens\n",
    "from tree_to_sequence.translating_trees import pretty_print_tree"
   ]
  },
  {
   "cell_type": "code",
   "execution_count": null,
   "metadata": {},
   "outputs": [],
   "source": [
    "np.random.seed(3)"
   ]
  },
  {
   "cell_type": "code",
   "execution_count": null,
   "metadata": {},
   "outputs": [],
   "source": [
    "torch.cuda.set_device(1)"
   ]
  },
  {
   "cell_type": "code",
   "execution_count": null,
   "metadata": {},
   "outputs": [],
   "source": [
    "use_cuda = True\n",
    "image_width = 40\n",
    "image_height = 64\n",
    "one_hot = False\n",
    "binarize_output = True\n",
    "eos_token = True\n",
    "long_base_case = True\n",
    "output_as_seq = False\n",
    "num_samples = None\n",
    "max_num_children = 2 if binarize_output else 3\n",
    "batch_size = 32\n",
    "normalize_input = True"
   ]
  },
  {
   "cell_type": "markdown",
   "metadata": {},
   "source": [
    "## Make Dataset"
   ]
  },
  {
   "cell_type": "code",
   "execution_count": null,
   "metadata": {},
   "outputs": [],
   "source": [
    "def split_dataset(data, split):\n",
    "    all_trees = []\n",
    "    for img, tree in data:\n",
    "        if not tree in all_trees:\n",
    "            all_trees.append(tree)\n",
    "    \n",
    "    split_cutoff = int(len(all_trees) * split)\n",
    "    first_split = all_trees[:split_cutoff]\n",
    "    second_split = all_trees[split_cutoff:]\n",
    "    \n",
    "    first_data = [(img, tree) for img, tree in data if tree in first_split]\n",
    "    second_data = [(img, tree) for img, tree in data if tree in second_split]\n",
    "    \n",
    "    return first_data, second_data\n",
    "\n",
    "\n",
    "def make_dset(data):\n",
    "    return MathExprDatasetBatched(program_pairs=data, \n",
    "                                 batch_size=batch_size,\n",
    "                                 binarize_output=binarize_output,\n",
    "                                 max_children_output=max_num_children,\n",
    "                                 eos_token=eos_token,\n",
    "                                 normalize=normalize_input,\n",
    "                                 trim_factor=1,\n",
    "                                 left_align=False,\n",
    "                                 num_samples=num_samples)"
   ]
  },
  {
   "cell_type": "code",
   "execution_count": null,
   "metadata": {
    "scrolled": true
   },
   "outputs": [],
   "source": [
    "start = time. time()\n",
    "# Split into train/val/test sets\n",
    "# test_data = load_shuffled_data(\"math_expressions/test_data_short.pkl\")\n",
    "all_data = load_shuffled_data(\"math_expressions/train_data_short.pkl\")\n",
    "\n",
    "train_cutoff = 0.7\n",
    "train_data, val_data = split_dataset(all_data, train_cutoff)\n",
    "\n",
    "print(\"Train set size: \", len(train_data))\n",
    "print(\"Val set size: \", len(val_data))\n",
    "# print(\"Test set size: \", len(test_data))\n",
    "\n",
    "train_dset = make_dset(train_data)\n",
    "val_dset = make_dset(val_data)\n",
    "# test_dset = make_dset(test_data)\n",
    "\n",
    "max_size = max([tree.size() for batch in train_dset for tree in batch[1]])\n",
    "print(\"max size\", max_size)\n",
    "print(len(train_dset))\n",
    "end = time.time()\n",
    "\n",
    "print(\"dataset generation took: seconds\", end - start)"
   ]
  },
  {
   "cell_type": "markdown",
   "metadata": {},
   "source": [
    "## Visualizations"
   ]
  },
  {
   "cell_type": "code",
   "execution_count": null,
   "metadata": {},
   "outputs": [],
   "source": [
    "def display_normally(pic, title=None):\n",
    "        if not title is None:\n",
    "            plt.title(title)\n",
    "        plt.imshow(np.repeat(np.int0(pic)[:,:,np.newaxis]*255, 3, axis=2))\n",
    "        plt.show()"
   ]
  },
  {
   "cell_type": "code",
   "execution_count": null,
   "metadata": {},
   "outputs": [],
   "source": [
    "# import matplotlib.pyplot as plt\n",
    "plt.rcParams['figure.figsize'] = [10, 10]"
   ]
  },
  {
   "cell_type": "code",
   "execution_count": null,
   "metadata": {
    "scrolled": false
   },
   "outputs": [],
   "source": [
    "# Print the dset\n",
    "for batched_img, batched_trees in train_dset[1:2]:\n",
    "    for i in range(10):\n",
    "        img = batched_img[i]\n",
    "        tree = batched_trees[i]\n",
    "        display_normally(img[0])\n",
    "#         plt.hist(img[0])\n",
    "#         plt.show()\n",
    "        print(\"Img shape\", img.shape)\n",
    "        print(\"MIN\", torch.min(img))\n",
    "        print(\"MAX\", torch.max(img))\n",
    "#         pretty_print_tree(tree, math_tokens)"
   ]
  },
  {
   "cell_type": "markdown",
   "metadata": {},
   "source": [
    "## Make Model"
   ]
  },
  {
   "cell_type": "code",
   "execution_count": null,
   "metadata": {},
   "outputs": [],
   "source": [
    "class ImageEncoder(nn.Module):\n",
    "    def __init__(self, nchannels, nhidden, num_layers, num_cnn_layers, attention=True):\n",
    "        super(ImageEncoder, self).__init__()\n",
    "#         self.core = nn.Sequential(CNN_Sequence_Extractor(nchannels, num_cnn_layers), nn.LSTM(512, nhidden, num_layers, bidirectional=True))\n",
    "        self.core = nn.Sequential(CNN_Sequence_Extractor(nchannels, num_cnn_layers))\n",
    "        self.lstm = nn.LSTM(512, nhidden, num_layers, bidirectional=True)\n",
    "\n",
    "        self.register_buffer('reverse_indices', torch.LongTensor(range(1, num_layers*2, 2)))\n",
    "        \n",
    "        self.attention = attention\n",
    "\n",
    "    def forward(self, input, widths=None, training=True):\n",
    "#         print(\"before core\")\n",
    "#         get_gpu_memory_map()\n",
    "#         output, (all_hiddens, all_cell_state) = self.core(input)\n",
    "        first_output = self.core(input)\n",
    "#         print(\"after core\")\n",
    "#         get_gpu_memory_map()\n",
    "        \n",
    "        output, (all_hiddens, all_cell_state) = self.lstm(first_output)\n",
    "#         print(\"after lstm\")\n",
    "#         get_gpu_memory_map()\n",
    "        \n",
    "        if widths is not None:\n",
    "              output = nn.utils.rnn.pad_packed_sequence(output)\n",
    "\n",
    "        forward_hiddens = all_hiddens.index_select(0, self.reverse_indices - 1)\n",
    "        reverse_hiddens = all_hiddens.index_select(0, self.reverse_indices) #TODO: does this need a gradient\n",
    "        del all_hiddens\n",
    "        \n",
    "        hiddens = torch.cat([forward_hiddens, reverse_hiddens], 2)\n",
    "        del forward_hiddens\n",
    "        del reverse_hiddens\n",
    "        \n",
    "        forward_cell_state = all_cell_state.index_select(0, self.reverse_indices - 1)\n",
    "        reverse_cell_state = all_cell_state.index_select(0, self.reverse_indices) #TODO: does this need a gradient\n",
    "        del all_cell_state\n",
    "        cell_state = torch.cat([forward_cell_state, reverse_cell_state], 2)\n",
    "        del forward_cell_state\n",
    "        del reverse_cell_state\n",
    "        \n",
    "        if self.attention:        \n",
    "            if training:\n",
    "#                 get_gpu_memory_map()\n",
    "                return output, hiddens.squeeze(0), cell_state.squeeze(0) # TODO: This is here b/c currently training is batched but testing isn't.  Someday we should fix this\n",
    "            return output.squeeze(1), hiddens.squeeze(0), cell_state.squeeze(0)\n",
    "        else:\n",
    "              return reverse_hiddens\n",
    "            \n",
    "            \n",
    "class CNN_Sequence_Extractor(nn.Module):\n",
    "    def __init__(self, nchannels, num_layers, leakyRelu=False):\n",
    "        super(CNN_Sequence_Extractor, self).__init__()\n",
    "\n",
    "        assert(num_layers >= 7)\n",
    "\n",
    "        # Size of the kernel (image filter) for each convolutional layer.\n",
    "        ks = [3] * (num_layers - 1) + [2]\n",
    "        \n",
    "        # Amount of zero-padding for each convoutional layer.\n",
    "        ps = [1] * (num_layers - 1) + [0]\n",
    "\n",
    "        # The stride for each convolutional layer. The list elements are of the form (height stride, width stride).\n",
    "        ss = [(2,2), (3,2)] + [(2,1) if i % 2 else (3,1) for i in range(num_layers - 2)]\n",
    "        \n",
    "        # Number of channels in each convolutional layer.\n",
    "        nm = [64, 128, 245, 256] + [512] * (num_layers - 4)\n",
    "\n",
    "        # Initializing the container for the modules that make up the neural network the neurel netowrk.\n",
    "        cnn = []\n",
    "\n",
    "        # Represents a convolutional layer. The input paramter i signals that this is the ith convolutional layer. The user also has the option to set batchNormalization to True which will perform a batch normalization on the image after it has undergone a convoltuional pass. There is no output but this function adds the convolutional layer module created here to the sequential container, cnn.\n",
    "        def convRelu(i, batchNormalization=False):\n",
    "            nIn = nchannels if i == 0 else nm[i - 1]\n",
    "            nOut = nm[i]\n",
    "            cnn.append(nn.Conv2d(nIn, nOut, ks[i], ss[i], ps[i]))\n",
    "            if batchNormalization:\n",
    "                cnn.append(nn.BatchNorm2d(nOut))\n",
    "            else:\n",
    "                cnn.append(nn.ReLU(True))\n",
    "\n",
    "        batch_norm_on = True\n",
    "        # Creating the 7 convolutional layers for the model.\n",
    "        convRelu(0)\n",
    "        convRelu(1)\n",
    "        convRelu(2, batch_norm_on)\n",
    "        convRelu(3)\n",
    "        convRelu(4, batch_norm_on)\n",
    "        convRelu(5)\n",
    "        convRelu(6, batch_norm_on)\n",
    "        \n",
    "        for layer in cnn:\n",
    "            layer.cuda()\n",
    "\n",
    "        self.cnn = cnn\n",
    "\n",
    "    def forward(self, input, widths=None):\n",
    "        for i, layer in enumerate(self.cnn):\n",
    "            input = layer(input)\n",
    "#             print(\"layer\", i, type(layer))\n",
    "#             get_gpu_memory_map()\n",
    "        output = input\n",
    "        _, _, h, _ = output.size()\n",
    "        assert h == 1, \"the height of conv must be 1\"\n",
    "        output = output.squeeze(2) # [b, c, w]\n",
    "        output = output.permute(2, 0, 1) #[w, b, c]\n",
    "\n",
    "        if widths is not None:\n",
    "            sorted_widths, idx = widths.sort(descending=True)\n",
    "            output = output.index_select(1, idx)\n",
    "            output = nn.utils.pack_padded_sequence(output, sorted_widths / 4)\n",
    "\n",
    "        return output"
   ]
  },
  {
   "cell_type": "code",
   "execution_count": null,
   "metadata": {},
   "outputs": [],
   "source": [
    "def reset_all_parameters_uniform(model, stdev):\n",
    "    for param in model.parameters():\n",
    "        nn.init.uniform_(param, -stdev, stdev)"
   ]
  },
  {
   "cell_type": "code",
   "execution_count": null,
   "metadata": {},
   "outputs": [],
   "source": [
    "eos_bonus = 1 if eos_token else 0\n",
    "nclass = len(math_tokens) + 26*2 + 10 # TODO: FIGURE THIS OUT\n",
    "plot_every = 100\n",
    "hidden_size = 64 #128 #256\n",
    "embedding_size = 100\n",
    "alignment_size = 50\n",
    "n_channels = 1\n",
    "num_layers = 1 # TODO: Later consider making this work for num_layers > 1\n",
    "align_type = 1\n",
    "num_cnn_layers = 7\n",
    "    \n",
    "encoder = ImageEncoder(n_channels, hidden_size, num_layers, num_cnn_layers, attention=True)\n",
    "decoder = TreeDecoderBatch(embedding_size, hidden_size*2, max_num_children, nclass=nclass)\n",
    "program_model = TreeToTreeAttentionBatch(encoder, decoder, hidden_size * 2, embedding_size, nclass=nclass, max_size=max_size,\n",
    "                                    alignment_size=alignment_size, align_type=align_type, use_cuda=use_cuda)    \n",
    "    \n",
    "reset_all_parameters_uniform(program_model, 0.1)\n",
    "decoder.initialize_forget_bias(3)\n"
   ]
  },
  {
   "cell_type": "code",
   "execution_count": null,
   "metadata": {},
   "outputs": [],
   "source": [
    "if use_cuda:\n",
    "    program_model = program_model.cuda()"
   ]
  },
  {
   "cell_type": "markdown",
   "metadata": {},
   "source": [
    "## Training Setup"
   ]
  },
  {
   "cell_type": "code",
   "execution_count": null,
   "metadata": {},
   "outputs": [],
   "source": [
    "optimizer = optim.Adam(program_model.parameters(), lr=0.001) #0.001\n",
    "lr_scheduler = optim.lr_scheduler.ReduceLROnPlateau(optimizer, verbose=True, patience=500, factor=0.8)"
   ]
  },
  {
   "cell_type": "code",
   "execution_count": null,
   "metadata": {},
   "outputs": [],
   "source": [
    "# Counts the number of matches between the prediction and target.\n",
    "def count_matches(prediction, target):\n",
    "    matches = 0\n",
    "    if int(prediction.value) == int(target.value):\n",
    "        matches += 1\n",
    "    for i in range(min(len(target.children), len(prediction.children))):\n",
    "        matches += count_matches(prediction.children[i], target.children[i])\n",
    "    return matches\n",
    "\n",
    "# Program accuracy (1 if completely correct, 0 otherwise)\n",
    "def program_accuracy(prediction, target):\n",
    "    target = target[0]\n",
    "    if prediction.size() == count_matches(prediction, target) and \\\n",
    "       prediction.size() == target.size():\n",
    "        return 1\n",
    "    else:\n",
    "        return 0\n",
    "\n",
    "# Calculate validation accuracy (this could either be program or token accuracy)\n",
    "def validation_criterion(prediction, target):\n",
    "    return program_accuracy(prediction, target)"
   ]
  },
  {
   "cell_type": "code",
   "execution_count": null,
   "metadata": {},
   "outputs": [],
   "source": [
    "program_model = torch.load(\"math_expressions/models/larger_batch_model\")"
   ]
  },
  {
   "cell_type": "code",
   "execution_count": null,
   "metadata": {},
   "outputs": [],
   "source": [
    "import subprocess\n",
    "\n",
    "def get_gpu_memory_map():\n",
    "    \"\"\"Get the current gpu usage.\n",
    "\n",
    "    Returns\n",
    "    -------\n",
    "    usage: dict\n",
    "        Keys are device ids as integers.\n",
    "        Values are memory usage as integers in MB.\n",
    "    \"\"\"\n",
    "    result = subprocess.check_output(\n",
    "        [\n",
    "            'nvidia-smi', '--query-gpu=memory.used',\n",
    "            '--format=csv,nounits,noheader'\n",
    "        ], encoding='utf-8')\n",
    "    # Convert lines into a dictionary\n",
    "    gpu_memory = [int(x) for x in result.strip().split('\\n')]\n",
    "    gpu_memory_map = dict(zip(range(len(gpu_memory)), gpu_memory))\n",
    "    print(\"Current usage: %i of 11178\" % gpu_memory_map[1])\n",
    "#     return gpu_memory_map\n",
    "\n",
    "get_gpu_memory_map()"
   ]
  },
  {
   "cell_type": "markdown",
   "metadata": {
    "scrolled": false
   },
   "source": [
    "## Train"
   ]
  },
  {
   "cell_type": "code",
   "execution_count": null,
   "metadata": {
    "scrolled": true
   },
   "outputs": [],
   "source": [
    "best_model, train_plot_losses, train_plot_accuracies, _, _ = training.train_model_tree_to_tree(\n",
    "    program_model, \n",
    "    train_dset,                      \n",
    "    optimizer, \n",
    "    lr_scheduler=None, \n",
    "    num_epochs=50, \n",
    "    plot_every=plot_every,                            \n",
    "    batch_size=1,\n",
    "    print_every=50, \n",
    "    validation_criterion=validation_criterion, \n",
    "    validation_dset=val_dset,\n",
    "    save_folder =\"math_expressions/models\", \n",
    "    save_file=\"retrained_larger_batch\",                        \n",
    "    use_cuda=use_cuda, \n",
    "    skip_output_cuda=False, \n",
    "    tokens=math_tokens,                     \n",
    "    save_current_only=True, \n",
    "    input_tree_form=False)\n",
    "    \n",
    "    "
   ]
  },
  {
   "cell_type": "markdown",
   "metadata": {},
   "source": [
    "## Visualize Results"
   ]
  },
  {
   "cell_type": "code",
   "execution_count": null,
   "metadata": {},
   "outputs": [],
   "source": [
    "plt.plot([x * plot_every for x in range(len(train_plot_losses))], train_plot_losses)\n",
    "plt.title(\"Loss\")\n",
    "plt.show()\n",
    "\n",
    "plt.plot([x * plot_every for x in range(len(train_plot_accuracies))], train_plot_accuracies)\n",
    "plt.title(\"Accuracy\")\n",
    "plt.show()"
   ]
  },
  {
   "cell_type": "code",
   "execution_count": null,
   "metadata": {},
   "outputs": [],
   "source": [
    "img, tree = train_dset[0]\n",
    "tree = tree[0]\n",
    "pretty_print_tree(tree)\n",
    "pretty_print_tree(tree, math_tokens)"
   ]
  },
  {
   "cell_type": "code",
   "execution_count": null,
   "metadata": {},
   "outputs": [],
   "source": [
    "# Check errors\n",
    "def view_errors(dataset, num):\n",
    "    for input_tree, target_tree in dataset[:num]:\n",
    "        input_tree = input_tree.cuda()\n",
    "        target_tree = [actual_tree.cuda() for actual_tree in target_tree]                    \n",
    "\n",
    "        program_model.eval()\n",
    "        program_model.print_img_tree_example(input_tree, target_tree, math_tokens)\n",
    "        "
   ]
  },
  {
   "cell_type": "code",
   "execution_count": null,
   "metadata": {
    "scrolled": true
   },
   "outputs": [],
   "source": [
    "view_errors(train_dset, 5)"
   ]
  },
  {
   "cell_type": "code",
   "execution_count": null,
   "metadata": {
    "scrolled": true
   },
   "outputs": [],
   "source": [
    "view_errors(val_dset, 5)"
   ]
  },
  {
   "cell_type": "markdown",
   "metadata": {},
   "source": [
    "## Test"
   ]
  },
  {
   "cell_type": "code",
   "execution_count": null,
   "metadata": {},
   "outputs": [],
   "source": [
    "def cudafy_pair(pair):\n",
    "    img_cuda = pair[0].cuda()\n",
    "    tree_cuda = [tree.cuda() for tree in pair[1]]\n",
    "    return (img_cuda, tree_cuda)"
   ]
  },
  {
   "cell_type": "code",
   "execution_count": null,
   "metadata": {},
   "outputs": [],
   "source": [
    "\n",
    "val_dset_cuda = [cudafy_pair(pair) for pair in val_dset]\n",
    "\n",
    "program_model.eval()\n",
    "acc = training.test_model_tree_to_tree(program_model, val_dset_cuda, validation_criterion, use_cuda=False) \n",
    "print(\"accuracy\", acc)"
   ]
  },
  {
   "cell_type": "code",
   "execution_count": null,
   "metadata": {},
   "outputs": [],
   "source": [
    "train_dset_cuda = [cudafy_pair(pair) for pair in train_dset]\n",
    "\n",
    "program_model.eval()\n",
    "acc = training.test_model_tree_to_tree(program_model, train_dset_cuda, validation_criterion, use_cuda=False) \n",
    "print(\"accuracy\", acc)"
   ]
  }
 ],
 "metadata": {
  "kernelspec": {
   "display_name": "Python 3",
   "language": "python",
   "name": "python3"
  },
  "language_info": {
   "codemirror_mode": {
    "name": "ipython",
    "version": 3
   },
   "file_extension": ".py",
   "mimetype": "text/x-python",
   "name": "python",
   "nbconvert_exporter": "python",
   "pygments_lexer": "ipython3",
   "version": "3.6.7"
  }
 },
 "nbformat": 4,
 "nbformat_minor": 2
}
